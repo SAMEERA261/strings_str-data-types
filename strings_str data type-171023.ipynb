{
 "cells": [
  {
   "cell_type": "markdown",
   "id": "f21df6e0",
   "metadata": {},
   "source": [
    "## Strings\n",
    "\n",
    "* strings are characters or a sequence of characters enclosed in qoutes (single,double and triple-single or triple-double qoutes)\n",
    "\n",
    "* triple qoutes are used as multiline strings ,multiline comments and as doc strings.\n"
   ]
  },
  {
   "cell_type": "markdown",
   "id": "52925bd2",
   "metadata": {},
   "source": [
    "# Creating strings"
   ]
  },
  {
   "cell_type": "code",
   "execution_count": 103,
   "id": "13966723",
   "metadata": {},
   "outputs": [
    {
     "name": "stdout",
     "output_type": "stream",
     "text": [
      "this is a string ,enclosed in single qoutes\n",
      "this is a string ,enclosed in double qoutes\n",
      "this is a multi-string ,enclosed in triple single qoutes\n"
     ]
    },
    {
     "data": {
      "text/plain": [
       "'this is a multi- line comment ,created by using triple double qoutes'"
      ]
     },
     "execution_count": 103,
     "metadata": {},
     "output_type": "execute_result"
    }
   ],
   "source": [
    "s1 = 'this is a string ,enclosed in single qoutes'\n",
    "s2 = \"this is a string ,enclosed in double qoutes\"\n",
    "s3 = '''this is a multi-string ,enclosed in triple single qoutes'''\n",
    "print(s1,s2,s3,sep='\\n')\n",
    "\"\"\"this is a multi- line comment ,created by using triple double qoutes\"\"\""
   ]
  },
  {
   "cell_type": "code",
   "execution_count": 104,
   "id": "441fdcf4",
   "metadata": {},
   "outputs": [],
   "source": [
    "a = \"this cup belong's to INDIA\"\n",
    "a = 'this cup belong\\'s to INDIA'"
   ]
  },
  {
   "cell_type": "code",
   "execution_count": 105,
   "id": "a6080a0b",
   "metadata": {},
   "outputs": [
    {
     "name": "stdout",
     "output_type": "stream",
     "text": [
      "a\n",
      "b\n",
      "a\tb\n",
      "ab\r",
      "c\n"
     ]
    }
   ],
   "source": [
    "print('a\\nb') #new line #ESCAPE PATH\n",
    "print('a\\tb') #tab/four spaces\n",
    "print('ab\\rc') #moves the curser to start of the line\n",
    "\n"
   ]
  },
  {
   "cell_type": "markdown",
   "id": "650e3771",
   "metadata": {},
   "source": [
    "### Raw string  and formatting string \n",
    "\n",
    "* reading everything in raw form .\n",
    "\n",
    "* a special type of string that allows you to include backslashes ( \\ ) without interpreting them as escape sequences.\n",
    "\n"
   ]
  },
  {
   "cell_type": "code",
   "execution_count": 106,
   "id": "b239c057",
   "metadata": {},
   "outputs": [
    {
     "name": "stdout",
     "output_type": "stream",
     "text": [
      "c:\u0007bc:\\jps\n",
      "c:/abc/newfolder/j.jpg\n"
     ]
    }
   ],
   "source": [
    "#raw sring\n",
    "\n",
    "print('c:\\abc:\\jps')\n",
    "\n",
    "print(r'c:/abc/newfolder/j.jpg')\n",
    " \n",
    "\n"
   ]
  },
  {
   "cell_type": "code",
   "execution_count": 107,
   "id": "7c4bb15a",
   "metadata": {},
   "outputs": [
    {
     "name": "stdout",
     "output_type": "stream",
     "text": [
      "the volume of a cylinder,whose radius is 5 whose height is  7 is 550.0\n",
      "the vol of cylinder ,whose radius and height  is 5 and 7 respectively and the volume uis 550.0\n"
     ]
    }
   ],
   "source": [
    "r,h=5,7 \n",
    "\n",
    "vol=(22/7)*(r**2)*h\n",
    "\n",
    "print('the volume of a cylinder,whose radius is',r,'whose height is ',h,'is',vol)\n",
    "\n",
    "print(f'the vol of cylinder ,whose radius and height  is {r} and {h} respectively and the volume uis {vol}')\n"
   ]
  },
  {
   "cell_type": "markdown",
   "id": "a8cbcfbe",
   "metadata": {},
   "source": [
    "### Example for formatting string:\n"
   ]
  },
  {
   "cell_type": "code",
   "execution_count": 108,
   "id": "64247a49",
   "metadata": {},
   "outputs": [
    {
     "name": "stdout",
     "output_type": "stream",
     "text": [
      "a sphere with diameter 10 cms,volume will be 523.8095238095237 cubic cms\n"
     ]
    }
   ],
   "source": [
    "print(f'a sphere with diameter {10} cms,volume will be {(22/7)*(10/2)**3*(4/3)} cubic cms')"
   ]
  },
  {
   "cell_type": "markdown",
   "id": "636ac0fc",
   "metadata": {},
   "source": [
    "### strings can be indexed :“Indexing” means referring to an element of an iterable by its position within the iterable.\n",
    "\n",
    "* since strings are sequence of chars,and this seq has an indexing value.\n",
    "\n",
    "#### Indexing is of two types:\n",
    "\n",
    "1. Accessing Characters by Positive Index Number\n",
    "2. Accessing Characters by Negative Index Number"
   ]
  },
  {
   "cell_type": "markdown",
   "id": "6cdf2b98",
   "metadata": {},
   "source": [
    "#### positive indexing :\n",
    "\n",
    "* in positive indexing ,we move from left to right and the start index is '0' and the end index is 'n-1',where n is len of the string."
   ]
  },
  {
   "cell_type": "code",
   "execution_count": 109,
   "id": "792fb076",
   "metadata": {},
   "outputs": [
    {
     "name": "stdout",
     "output_type": "stream",
     "text": [
      "h\n"
     ]
    }
   ],
   "source": [
    "x='python'\n",
    "\n",
    "print (x[3])#accessing h\n",
    "\n"
   ]
  },
  {
   "cell_type": "markdown",
   "id": "d7c07c44",
   "metadata": {},
   "source": [
    "#### Negative indexing:\n",
    "\n",
    "\n",
    "* in negative indexing ,we move from right to left and the start index is '-1' and the end index is '-n',where n is len of the string.\n",
    "\n",
    "* backward direction indexing\n"
   ]
  },
  {
   "cell_type": "code",
   "execution_count": 110,
   "id": "13189d76",
   "metadata": {},
   "outputs": [
    {
     "name": "stdout",
     "output_type": "stream",
     "text": [
      "h\n"
     ]
    }
   ],
   "source": [
    "print(x[-3])#accessing h using negative indexing"
   ]
  },
  {
   "cell_type": "markdown",
   "id": "638b5b6f",
   "metadata": {},
   "source": [
    "## Slicing\n",
    "\n",
    "* the extraction of a part of a string, list, or tuple.\n",
    "\n",
    "    * it can be viewed as : Collection[start:end:step]\n",
    "\n",
    "* start position is a and end is n so we start with a and we stop until m as n is not considered\n",
    "\n",
    "1. start\n",
    "2. end\n",
    "3. step sclicing\n",
    "\n",
    "<b>slicing using positive indexing</b>\n"
   ]
  },
  {
   "cell_type": "code",
   "execution_count": 111,
   "id": "86f7f5e9",
   "metadata": {},
   "outputs": [
    {
     "name": "stdout",
     "output_type": "stream",
     "text": [
      "55\n",
      "i am doreamon\n",
      "i am doreamon in my own imagination its g\n",
      "ia oemni yoniaiainisg\n",
      "imoannywigaoi oti\n",
      "i am doreamon in my own imagination its good to imagine\n",
      "doreamon \n"
     ]
    }
   ],
   "source": [
    "x='i am doreamon in my own imagination its good to imagine'\n",
    "\n",
    "print (len(x))\n",
    "\n",
    "print(x[0:13])\n",
    "\n",
    "print(x[0:41])\n",
    "\n",
    "print(x[0:41:2])#step sclicing\n",
    "\n",
    "print(x[0:49:3])#step sclicing\n",
    "\n",
    "print(x[::]) #default value will be 1\n",
    "\n",
    "print(x[5:14])\n",
    "\n"
   ]
  },
  {
   "cell_type": "code",
   "execution_count": 112,
   "id": "ab54aa4e",
   "metadata": {},
   "outputs": [
    {
     "name": "stdout",
     "output_type": "stream",
     "text": [
      "python\n",
      "nohtyp\n"
     ]
    }
   ],
   "source": [
    "x='python'\n",
    "\n",
    "print(x)\n",
    "\n",
    "print(x[::-1])"
   ]
  },
  {
   "cell_type": "markdown",
   "id": "b3e24bb7",
   "metadata": {},
   "source": [
    "#### Sclicing using Reverse indexing \\ negative indexing"
   ]
  },
  {
   "cell_type": "code",
   "execution_count": 113,
   "id": "1999f44b",
   "metadata": {},
   "outputs": [
    {
     "data": {
      "text/plain": [
       "'nohtyp'"
      ]
     },
     "execution_count": 113,
     "metadata": {},
     "output_type": "execute_result"
    }
   ],
   "source": [
    "x[-1:-7:-1]"
   ]
  },
  {
   "cell_type": "code",
   "execution_count": 114,
   "id": "ed03038c",
   "metadata": {},
   "outputs": [
    {
     "data": {
      "text/plain": [
       "'nohty'"
      ]
     },
     "execution_count": 114,
     "metadata": {},
     "output_type": "execute_result"
    }
   ],
   "source": [
    "x[-1:-6:-1]"
   ]
  },
  {
   "cell_type": "code",
   "execution_count": 115,
   "id": "23c7ef66",
   "metadata": {},
   "outputs": [
    {
     "name": "stdout",
     "output_type": "stream",
     "text": [
      "7\n"
     ]
    },
    {
     "data": {
      "text/plain": [
       "'areema'"
      ]
     },
     "execution_count": 115,
     "metadata": {},
     "output_type": "execute_result"
    }
   ],
   "source": [
    "x='sameera'\n",
    "\n",
    "print (len(x))\n",
    "\n",
    "x[5:0:-1]\n",
    "\n",
    "x[6:0:-1]"
   ]
  },
  {
   "cell_type": "code",
   "execution_count": 116,
   "id": "3765607e",
   "metadata": {},
   "outputs": [
    {
     "data": {
      "text/plain": [
       "''"
      ]
     },
     "execution_count": 116,
     "metadata": {},
     "output_type": "execute_result"
    }
   ],
   "source": [
    "x[0:8:-1]"
   ]
  },
  {
   "cell_type": "markdown",
   "id": "cadc09b2",
   "metadata": {},
   "source": [
    "### concatnation of strings :\n",
    " * adding two strings\n",
    " "
   ]
  },
  {
   "cell_type": "code",
   "execution_count": 117,
   "id": "4612c6dc",
   "metadata": {},
   "outputs": [
    {
     "data": {
      "text/plain": [
       "'sameera'"
      ]
     },
     "execution_count": 117,
     "metadata": {},
     "output_type": "execute_result"
    }
   ],
   "source": [
    "a,b= 'sam','eera'\n",
    "\n",
    "c= a+b\n",
    "\n",
    "c"
   ]
  },
  {
   "cell_type": "code",
   "execution_count": 118,
   "id": "cc0a833b",
   "metadata": {},
   "outputs": [
    {
     "name": "stdout",
     "output_type": "stream",
     "text": [
      "sameerasameerasameera\n"
     ]
    }
   ],
   "source": [
    "c *= 3\n",
    "\n",
    "print (c)"
   ]
  }
 ],
 "metadata": {
  "kernelspec": {
   "display_name": "Python 3 (ipykernel)",
   "language": "python",
   "name": "python3"
  },
  "language_info": {
   "codemirror_mode": {
    "name": "ipython",
    "version": 3
   },
   "file_extension": ".py",
   "mimetype": "text/x-python",
   "name": "python",
   "nbconvert_exporter": "python",
   "pygments_lexer": "ipython3",
   "version": "3.11.5"
  }
 },
 "nbformat": 4,
 "nbformat_minor": 5
}
